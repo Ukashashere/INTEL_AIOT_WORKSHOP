{
  "nbformat": 4,
  "nbformat_minor": 0,
  "metadata": {
    "colab": {
      "provenance": [],
      "include_colab_link": true
    },
    "kernelspec": {
      "name": "python3",
      "display_name": "Python 3"
    },
    "language_info": {
      "name": "python"
    }
  },
  "cells": [
    {
      "cell_type": "markdown",
      "metadata": {
        "id": "view-in-github",
        "colab_type": "text"
      },
      "source": [
        "<a href=\"https://colab.research.google.com/github/Ukashashere/INTEL_AIOT_WORKSHOP/blob/main/Copy_of_01_hello_world_openvino.ipynb\" target=\"_parent\"><img src=\"https://colab.research.google.com/assets/colab-badge.svg\" alt=\"Open In Colab\"/></a>"
      ]
    },
    {
      "cell_type": "code",
      "execution_count": null,
      "metadata": {
        "colab": {
          "base_uri": "https://localhost:8080/"
        },
        "id": "t-y9hSCWtqeU",
        "outputId": "c4a61bc4-c577-43b5-c55e-47da12059170"
      },
      "outputs": [
        {
          "output_type": "stream",
          "name": "stdout",
          "text": [
            "\u001b[2K     \u001b[90m━━━━━━━━━━━━━━━━━━━━━━━━━━━━━━━━━━━━━━━━\u001b[0m \u001b[32m38.3/38.3 MB\u001b[0m \u001b[31m29.9 MB/s\u001b[0m eta \u001b[36m0:00:00\u001b[0m\n",
            "\u001b[?25h"
          ]
        }
      ],
      "source": [
        "# Install openvino package\n",
        "%pip install -q openvino"
      ]
    },
    {
      "cell_type": "markdown",
      "source": [
        "\n",
        "This is day_3 of AIOT_Intel workshop .The backend of Google Collab is a Linux machine. This is your boy Rockstar Ukasha.\n",
        "\n"
      ],
      "metadata": {
        "id": "RSkWIVr6baDb"
      }
    },
    {
      "cell_type": "code",
      "source": [
        "# Import openvino, check for its version and available plug-ins\n",
        "import openvino as ov\n",
        "print(ov.__version__)\n",
        "core = ov.Core()\n",
        "core\n"
      ],
      "metadata": {
        "colab": {
          "base_uri": "https://localhost:8080/"
        },
        "id": "ycvTOG-Ot4FO",
        "outputId": "f7e4df43-8ccb-460c-c898-dc578fc30d27"
      },
      "execution_count": null,
      "outputs": [
        {
          "output_type": "stream",
          "name": "stdout",
          "text": [
            "2023.3.0-13775-ceeafaf64f3-releases/2023/3\n"
          ]
        },
        {
          "output_type": "execute_result",
          "data": {
            "text/plain": [
              "<Core: available plugins[CPU]>"
            ]
          },
          "metadata": {},
          "execution_count": 4
        }
      ]
    },
    {
      "cell_type": "code",
      "source": [
        "# Get the xml and bin file from Openvino toolkit storage\n",
        "\n",
        "# Download Link : https://storage.openvinotoolkit.org/repositories/openvino_notebooks/models/mobelinet-v3-tf/FP32/\n"
      ],
      "metadata": {
        "id": "t8Gwt-m5-bFi"
      },
      "execution_count": null,
      "outputs": []
    },
    {
      "cell_type": "code",
      "source": [
        "!wget https://storage.openvinotoolkit.org/repositories/openvino_notebooks/models/mobelinet-v3-tf/FP32/v3-small_224_1.0_float.bin"
      ],
      "metadata": {
        "colab": {
          "base_uri": "https://localhost:8080/"
        },
        "id": "Prz-jknXcH86",
        "outputId": "d73229b2-5901-4777-c0ad-52ad661f3d63"
      },
      "execution_count": null,
      "outputs": [
        {
          "output_type": "stream",
          "name": "stdout",
          "text": [
            "--2024-03-06 06:26:49--  https://storage.openvinotoolkit.org/repositories/openvino_notebooks/models/mobelinet-v3-tf/FP32/v3-small_224_1.0_float.bin\n",
            "Resolving storage.openvinotoolkit.org (storage.openvinotoolkit.org)... 3.163.125.118, 3.163.125.13, 3.163.125.65, ...\n",
            "Connecting to storage.openvinotoolkit.org (storage.openvinotoolkit.org)|3.163.125.118|:443... connected.\n",
            "HTTP request sent, awaiting response... 200 OK\n",
            "Length: 5075724 (4.8M) [application/octet-stream]\n",
            "Saving to: ‘v3-small_224_1.0_float.bin’\n",
            "\n",
            "v3-small_224_1.0_fl 100%[===================>]   4.84M  5.16MB/s    in 0.9s    \n",
            "\n",
            "2024-03-06 06:26:51 (5.16 MB/s) - ‘v3-small_224_1.0_float.bin’ saved [5075724/5075724]\n",
            "\n"
          ]
        }
      ]
    },
    {
      "cell_type": "code",
      "source": [
        "!wget https://storage.openvinotoolkit.org/repositories/openvino_notebooks/models/mobelinet-v3-tf/FP32/v3-small_224_1.0_float.xml"
      ],
      "metadata": {
        "colab": {
          "base_uri": "https://localhost:8080/"
        },
        "id": "jaIazxOucKQj",
        "outputId": "82aa3972-b475-4a8e-e09c-42bc923431c0"
      },
      "execution_count": null,
      "outputs": [
        {
          "output_type": "stream",
          "name": "stdout",
          "text": [
            "--2024-03-06 06:26:54--  https://storage.openvinotoolkit.org/repositories/openvino_notebooks/models/mobelinet-v3-tf/FP32/v3-small_224_1.0_float.xml\n",
            "Resolving storage.openvinotoolkit.org (storage.openvinotoolkit.org)... 3.163.125.118, 3.163.125.13, 3.163.125.65, ...\n",
            "Connecting to storage.openvinotoolkit.org (storage.openvinotoolkit.org)|3.163.125.118|:443... connected.\n",
            "HTTP request sent, awaiting response... 200 OK\n",
            "Length: 300608 (294K) [application/xml]\n",
            "Saving to: ‘v3-small_224_1.0_float.xml’\n",
            "\n",
            "v3-small_224_1.0_fl 100%[===================>] 293.56K   553KB/s    in 0.5s    \n",
            "\n",
            "2024-03-06 06:26:55 (553 KB/s) - ‘v3-small_224_1.0_float.xml’ saved [300608/300608]\n",
            "\n"
          ]
        }
      ]
    },
    {
      "cell_type": "code",
      "source": [
        "# Load the model\n",
        "\n",
        "model = core.read_model('/content/v3-small_224_1.0_float.xml')  #copied the path of xml file.\n",
        "compiled_model = core.compile_model(model)\n",
        "compiled_model"
      ],
      "metadata": {
        "id": "T5CRSTBs-xqQ",
        "colab": {
          "base_uri": "https://localhost:8080/"
        },
        "outputId": "759e13c1-9699-420b-d34e-f65333a7f356"
      },
      "execution_count": null,
      "outputs": [
        {
          "output_type": "execute_result",
          "data": {
            "text/plain": [
              "<CompiledModel:\n",
              "inputs[\n",
              "<ConstOutput: names[input:0] shape[1,224,224,3] type: f32>\n",
              "]\n",
              "outputs[\n",
              "<ConstOutput: names[MobilenetV3/Predictions/Softmax:0] shape[1,1001] type: f32>\n",
              "]>"
            ]
          },
          "metadata": {},
          "execution_count": 7
        }
      ]
    },
    {
      "cell_type": "markdown",
      "source": [
        "#About the above output--\n",
        "\n",
        "Output is determined for single image, we have \"shape[1,...\"\n",
        "if we have 1000 image then \"shape[1000,..\" will be there\n",
        "\n"
      ],
      "metadata": {
        "id": "Wd8uujJoeMlv"
      }
    },
    {
      "cell_type": "code",
      "source": [
        "# Compile the model"
      ],
      "metadata": {
        "id": "ve2kVvNDvN4U"
      },
      "execution_count": null,
      "outputs": []
    },
    {
      "cell_type": "code",
      "source": [
        "!wget https://m.media-amazon.com/images/I/81Pp70CsSNL.jpg  -O demo.jpg  # copy image link here\n",
        "\n"
      ],
      "metadata": {
        "colab": {
          "base_uri": "https://localhost:8080/"
        },
        "id": "b4HpR-QPfeCZ",
        "outputId": "f84467e9-d49d-40b0-f81d-4d6f6c5e86bb"
      },
      "execution_count": null,
      "outputs": [
        {
          "output_type": "stream",
          "name": "stdout",
          "text": [
            "--2024-03-06 06:54:46--  https://m.media-amazon.com/images/I/81Pp70CsSNL.jpg\n",
            "Resolving m.media-amazon.com (m.media-amazon.com)... 18.164.156.97, 2600:9000:24ba:3c00:1d:d7f6:39d3:d9e1, 2600:9000:24ba:4c00:1d:d7f6:39d3:d9e1, ...\n",
            "Connecting to m.media-amazon.com (m.media-amazon.com)|18.164.156.97|:443... connected.\n",
            "HTTP request sent, awaiting response... 200 OK\n",
            "Length: 461502 (451K) [image/jpeg]\n",
            "Saving to: ‘demo.jpg’\n",
            "\n",
            "\rdemo.jpg              0%[                    ]       0  --.-KB/s               \rdemo.jpg            100%[===================>] 450.69K  --.-KB/s    in 0.03s   \n",
            "\n",
            "2024-03-06 06:54:46 (16.0 MB/s) - ‘demo.jpg’ saved [461502/461502]\n",
            "\n"
          ]
        }
      ]
    },
    {
      "cell_type": "code",
      "source": [
        "# Load the image and display\n",
        "# DO preprocessing like resize and expand dimensions\n",
        "import cv2\n",
        "import numpy as np\n",
        "img = cv2.imread('demo.jpg')\n",
        "img = cv2.resize(img,(224,224))\n",
        "img = np.expand_dims(img,0)  # we add 0 for the rows and here we expand dimensions\n",
        "img.shape\n",
        "\n",
        "# Now we've resized the image size according to what we've trained our model"
      ],
      "metadata": {
        "id": "KOR_l795-7xV",
        "colab": {
          "base_uri": "https://localhost:8080/"
        },
        "outputId": "6dbac17f-d353-46db-b97a-f35db32665b2"
      },
      "execution_count": null,
      "outputs": [
        {
          "output_type": "execute_result",
          "data": {
            "text/plain": [
              "(1, 224, 224, 3)"
            ]
          },
          "metadata": {},
          "execution_count": 13
        }
      ]
    },
    {
      "cell_type": "code",
      "source": [
        "# Infer the output\n",
        "\n",
        "res_infer = compiled_model([img])[compiled_model.output(0)]\n",
        "res_index = np.argmax(res_infer)\n",
        "res_index\n",
        "\n",
        "#"
      ],
      "metadata": {
        "id": "WVKcHig5_GAp",
        "colab": {
          "base_uri": "https://localhost:8080/"
        },
        "outputId": "8c07fd00-ca76-4077-c683-27347ffe40da"
      },
      "execution_count": null,
      "outputs": [
        {
          "output_type": "execute_result",
          "data": {
            "text/plain": [
              "410"
            ]
          },
          "metadata": {},
          "execution_count": 16
        }
      ]
    },
    {
      "cell_type": "markdown",
      "source": [
        "And the '410' value is corresponding to 'analog clock' in ---- https://gist.github.com/yrevar/942d3a0ac09ec9e5eb3a"
      ],
      "metadata": {
        "id": "iKUQLgZWljIS"
      }
    },
    {
      "cell_type": "code",
      "source": [
        "# Take the labels file and check the label name\n",
        "# Download link : https://storage.openvinotoolkit.org/repositories/openvino_notebooks/data/data/datasets/imagenet/imagenet_2012.txt"
      ],
      "metadata": {
        "id": "Q8evEk_B_KCa"
      },
      "execution_count": null,
      "outputs": []
    },
    {
      "cell_type": "code",
      "source": [
        "!wget https://storage.openvinotoolkit.org/repositories/openvino_notebooks/data/data/datasets/imagenet/imagenet_2012.txt"
      ],
      "metadata": {
        "colab": {
          "base_uri": "https://localhost:8080/"
        },
        "id": "O-AOYGeImODQ",
        "outputId": "1bedd1f6-e13b-4dab-bd87-946e7b1ae2ff"
      },
      "execution_count": null,
      "outputs": [
        {
          "output_type": "stream",
          "name": "stdout",
          "text": [
            "--2024-03-06 07:10:27--  https://storage.openvinotoolkit.org/repositories/openvino_notebooks/data/data/datasets/imagenet/imagenet_2012.txt\n",
            "Resolving storage.openvinotoolkit.org (storage.openvinotoolkit.org)... 3.163.125.65, 3.163.125.84, 3.163.125.13, ...\n",
            "Connecting to storage.openvinotoolkit.org (storage.openvinotoolkit.org)|3.163.125.65|:443... connected.\n",
            "HTTP request sent, awaiting response... 200 OK\n",
            "Length: 31675 (31K) [text/plain]\n",
            "Saving to: ‘imagenet_2012.txt’\n",
            "\n",
            "imagenet_2012.txt   100%[===================>]  30.93K  --.-KB/s    in 0.1s    \n",
            "\n",
            "2024-03-06 07:10:28 (235 KB/s) - ‘imagenet_2012.txt’ saved [31675/31675]\n",
            "\n"
          ]
        }
      ]
    },
    {
      "cell_type": "code",
      "source": [
        "op = open('/content/imagenet_2012.txt').readlines()  #To change th number output further into redable output\n",
        "op[res_index-1]            #index is subtracted to '-1' coz actual index starts at '0'"
      ],
      "metadata": {
        "id": "gXWO-ULBmY7a",
        "colab": {
          "base_uri": "https://localhost:8080/",
          "height": 35
        },
        "outputId": "6c1e914b-6149-416c-cd12-7178c9b09dbb"
      },
      "execution_count": 19,
      "outputs": [
        {
          "output_type": "execute_result",
          "data": {
            "text/plain": [
              "'n02708093 analog clock\\n'"
            ],
            "application/vnd.google.colaboratory.intrinsic+json": {
              "type": "string"
            }
          },
          "metadata": {},
          "execution_count": 19
        }
      ]
    }
  ]
}